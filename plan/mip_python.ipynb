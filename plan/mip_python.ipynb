{
 "cells": [
  {
   "cell_type": "markdown",
   "metadata": {},
   "source": [
    "# Simple hovercraft motion planning examples"
   ]
  },
  {
   "cell_type": "code",
   "execution_count": 1,
   "metadata": {},
   "outputs": [],
   "source": [
    "import gurobipy as gp\n",
    "from gurobipy import GRB\n",
    "import math\n",
    "import matplotlib.pyplot as plt\n",
    "import numpy as np\n",
    "import time"
   ]
  },
  {
   "cell_type": "code",
   "execution_count": 2,
   "metadata": {},
   "outputs": [],
   "source": [
    "# continuous dynamics\n",
    "A = np.r_[\n",
    "    np.c_[np.zeros((2, 2)), np.eye(2)],\n",
    "    np.c_[np.zeros((2, 2)), np.zeros((2, 2))]\n",
    "]\n",
    "B = np.r_[np.zeros((2, 2)), np.eye(2)]\n",
    "n = np.shape(A)[0]\n",
    "m = np.shape(B)[1]\n",
    "\n",
    "# convert to discrete\n",
    "dt = 1\n",
    "A = np.eye(n) + dt * A\n",
    "B = dt * B"
   ]
  },
  {
   "cell_type": "code",
   "execution_count": 3,
   "metadata": {},
   "outputs": [
    {
     "data": {
      "image/png": "[encoded data removed]",
      "text/plain": [
       "<Figure size 576x432 with 1 Axes>"
      ]
     },
     "metadata": {
      "needs_background": "light"
     },
     "output_type": "display_data"
    }
   ],
   "source": [
    "# visualize map\n",
    "def create_figure(title=\"\", traj=None):\n",
    "    fig, ax = plt.subplots(figsize=(8, 6))\n",
    "    ax.fill_between([40, 60], [40, 40], [60, 60], label=\"obstacle\")\n",
    "    ax.set_aspect(1)\n",
    "    ax.scatter(10, 10, label=\"start\")\n",
    "    ax.scatter(90, 90, label=\"finish\")\n",
    "    ax.set_xlim((0, 100))\n",
    "    ax.set_ylim((0, 100))\n",
    "    ax.set_xlabel(\"x\")\n",
    "    ax.set_ylabel(\"y\")\n",
    "    ax.set_title(title, fontsize=20)\n",
    "    if traj is not None:\n",
    "        for i in range(traj.shape[0]):\n",
    "            ax.plot(x_opt[i, 0, :], x_opt[i, 1, :], color=np.random.rand(3),\n",
    "                    label=\"vehicle {}\".format(i+1), linewidth=3)\n",
    "    ax.legend(loc='center right', bbox_to_anchor=(1.3, .5))\n",
    "    return fig, ax\n",
    "\n",
    "fig, ax = create_figure(title=\"toy world\")"
   ]
  },
  {
   "cell_type": "markdown",
   "metadata": {},
   "source": [
    "# Motion planning via MIP"
   ]
  },
  {
   "cell_type": "code",
   "execution_count": 4,
   "metadata": {},
   "outputs": [],
   "source": [
    "# create problem variables\n",
    "\n",
    "def opt_vars(grb_model, n_vehicles, state_dim, control_dim, horizon):\n",
    "    model = grb_model\n",
    "    N, n, m, H = n_vehicles, state_dim, control_dim, horizon\n",
    "    # state\n",
    "    x = model.addMVar((N, n, H), lb=-float('inf'), vtype=GRB.CONTINUOUS, name=\"x\")\n",
    "    # control\n",
    "    u = model.addMVar((N, m, H-1), lb=-float('inf'), vtype=GRB.CONTINUOUS)\n",
    "    return x, u\n",
    "\n",
    "def constraint_sat_vars(grb_model, n_vehicles, n_constraints, horizon):\n",
    "    model = grb_model\n",
    "    N, p, H = n_vehicles, n_constraints, horizon \n",
    "    # obstacle avoidance\n",
    "    z = model.addMVar((N, p, H), vtype=GRB.BINARY)\n",
    "    # other vehicle avoidance\n",
    "    if N > 1:\n",
    "        w = model.addMVar((N, N, H, n), vtype=GRB.BINARY)\n",
    "        return z, w\n",
    "    return z, None"
   ]
  },
  {
   "cell_type": "code",
   "execution_count": 5,
   "metadata": {},
   "outputs": [],
   "source": [
    "# constraints\n",
    "\n",
    "# box constraints\n",
    "def box_constraints(grb_model, n_vehicles, horizon):\n",
    "    model = grb_model\n",
    "    N, H = n_vehicles, horizon\n",
    "    for i in range(N):\n",
    "        for k in range(H):\n",
    "            model.addConstr(x[i, :, k] >= x_min)\n",
    "            model.addConstr(x[i, :, k] <= x_max)\n",
    "    for i in range(N):\n",
    "        for k in range(H-1):\n",
    "            model.addConstr(u[i, :, k] >= u_min)\n",
    "            model.addConstr(u[i, :, k] <= u_max)\n",
    "\n",
    "# start and end configurations\n",
    "def start_end_constrs(grb_model, n_vehicles, state_dim, end_dist=0, end_close=False):\n",
    "    model = grb_model\n",
    "    N, n = n_vehicles, state_dim\n",
    "    for i in range(N):\n",
    "        model.addConstr(x[i, :, 0] == x_start[i, :])\n",
    "        if end_close:\n",
    "            model.addConstr(sum((x[i, j, -1] - x_stop[j])**2 for j in range(2)) <= end_dist**2)\n",
    "            model.addConstr(x[i, 2:, -1] == x_stop[2:])\n",
    "        else:\n",
    "            model.addConstr(x[i, :, -1] == x_stop)\n",
    "\n",
    "# dynamics constraints\n",
    "def dynamics_constrs(grb_model, n_vehicles, horizon, state_dim, ctrl_dim, A, B):\n",
    "    model = grb_model\n",
    "    N, H, n, m = n_vehicles, horizon, state_dim, ctrl_dim\n",
    "    for i in range(N):\n",
    "        for k in range(H-1):\n",
    "            model.addConstr(A @ x[i, :, k] + B @ u[i, :, k] == x[i, :, k+1])\n",
    "\n",
    "def obstacle_constrs(grb_model, n_vehicles, horizon, A_con, b_con):\n",
    "    model = grb_model\n",
    "    N, H = n_vehicles, horizon\n",
    "    for i in range(N):\n",
    "        for k in range(H):\n",
    "            model.addConstr(A_con @ x[i, 0:2, k] - b_con <= (1 - z[i, :, k]) * M)\n",
    "            model.addConstr(z[i, :, k].sum() >= 1)\n",
    "\n",
    "def veh_avoid_constrs(grb_model, n_vehicles, horizon):\n",
    "    model = grb_model\n",
    "    N, H = n_vehicles, horizon\n",
    "    for i in range(N):\n",
    "        for j in range(i+1, N):\n",
    "            for k in range(H):\n",
    "                model.addConstr(x[i, 0, k] - x[j, 0, k] >= x_safe - (1 - w[i, j, k, 0]) * M)\n",
    "                model.addConstr(x[j, 0, k] - x[i, 0, k] >= x_safe - (1 - w[i, j, k, 1]) * M)\n",
    "                model.addConstr(x[i, 1, k] - x[j, 1, k] >= y_safe - (1 - w[i, j, k, 2]) * M)\n",
    "                model.addConstr(x[j, 1, k] - x[i, 1, k] >= y_safe - (1 - w[i, j, k, 3]) * M)\n",
    "                model.addConstr(w[i, j, k, :].sum() >= 1)\n",
    "\n",
    "def convoy_constr(grb_model, n_vehicles, horizon):\n",
    "    model = grb_model\n",
    "    N, H = n_vehicles, horizon\n",
    "    for i in range(N):\n",
    "        for j in range(i+1, N):\n",
    "            for k in range(H):\n",
    "                model.addConstr((x[i, 0, k] - x[j, 0, k])**2 + \n",
    "                                (x[i, 1, k] - x[j, 1, k])**2 <= max_dist**2)"
   ]
  },
  {
   "cell_type": "code",
   "execution_count": 6,
   "metadata": {},
   "outputs": [],
   "source": [
    "# box constraints on variables\n",
    "x_min = np.array([0, 0, -2, -2])\n",
    "x_max = np.array([100, 100, 2, 2])\n",
    "u_min = np.array([-1, -1])\n",
    "u_max = np.array([1, 1])\n",
    "\n",
    "# start and stop values\n",
    "x_start = np.array([[10, 10, 0, 0]])\n",
    "x_stop  = np.array([90, 90, 0, 0])\n",
    "max_final_dist = 0\n",
    "\n",
    "# obstacle halfspace parameters\n",
    "a_1 = np.array([0, 1])  ; b_1 = 40\n",
    "a_2 = np.array([0, -1]) ; b_2 = -60\n",
    "a_3 = np.array([1, 0])  ; b_3 = 40\n",
    "a_4 = np.array([-1, 0]) ; b_4 = -60\n",
    "A_con = np.array([a_1, a_2, a_3, a_4])\n",
    "b_con = np.array([40, -60, 40, -60])\n",
    "\n",
    "M = 100  # large number for big M trick\n",
    "\n",
    "# safe distances for avoiding one another\n",
    "x_safe = 5\n",
    "y_safe = 5\n",
    "\n",
    "# convoy constraint\n",
    "max_dist = 10\n",
    "\n",
    "# time horizon\n",
    "T = 100\n",
    "H = round(T / dt)\n",
    "\n",
    "N = 1 # number of vehicles"
   ]
  },
  {
   "cell_type": "code",
   "execution_count": 7,
   "metadata": {},
   "outputs": [
    {
     "name": "stdout",
     "output_type": "stream",
     "text": [
      "Set parameter Username\n",
      "Academic license - for non-commercial use only - expires 2022-12-05\n"
     ]
    }
   ],
   "source": [
    "# set up gurobi optimization model\n",
    "model = gp.Model(name=\"simple MIQP motion planning\")\n",
    "model.Params.OutputFlag = 0\n",
    "model.Params.DualReductions = 0"
   ]
  },
  {
   "cell_type": "code",
   "execution_count": 8,
   "metadata": {},
   "outputs": [
    {
     "name": "stdout",
     "output_type": "stream",
     "text": [
      "Number of state continuous variables: 400\n",
      "Number of control continuous variables: 198\n",
      "Number of obstacle collision avoidance binary variables: 400\n"
     ]
    }
   ],
   "source": [
    "x, u = opt_vars(model, N, n, m, H)\n",
    "z, w = constraint_sat_vars(model, N, A.shape[0], H)\n",
    "print(\"Number of state continuous variables:\", math.prod(x.shape))\n",
    "print(\"Number of control continuous variables:\", math.prod(u.shape))\n",
    "print(\"Number of obstacle collision avoidance binary variables:\", \n",
    "      math.prod(z.shape))\n",
    "if N > 1:\n",
    "    print(\"Number of vehicle collision avoidance binary variables:\", \n",
    "          math.prod(w.shape))"
   ]
  },
  {
   "cell_type": "code",
   "execution_count": 9,
   "metadata": {},
   "outputs": [],
   "source": [
    "box_constraints(model, N, H)\n",
    "start_end_constrs(model, N, n)\n",
    "dynamics_constrs(model, N, H, n, m, A, B)\n",
    "obstacle_constrs(model, N, H, A_con, b_con)\n",
    "veh_avoid_constrs(model, N, H)\n",
    "convoy_constr(model, N, H)"
   ]
  },
  {
   "cell_type": "code",
   "execution_count": 10,
   "metadata": {},
   "outputs": [
    {
     "name": "stdout",
     "output_type": "stream",
     "text": [
      "Execution time: 0.09697675704956055\n",
      "Optimization status: 2\n",
      "Objective value: 0.19339857897092294\n"
     ]
    }
   ],
   "source": [
    "obj = sum(u[i, :, k] @ u[i, :, k] for i in range(N) for k in range(H-1))\n",
    "model.setObjective(obj, GRB.MINIMIZE)\n",
    "\n",
    "start = time.time()\n",
    "model.optimize()\n",
    "end = time.time()\n",
    "\n",
    "print(\"Execution time:\", end - start)\n",
    "print(\"Optimization status:\", model.Status)\n",
    "print(\"Objective value:\", obj.getValue().item())"
   ]
  },
  {
   "cell_type": "code",
   "execution_count": 11,
   "metadata": {},
   "outputs": [
    {
     "data": {
      "image/png": "[encoded data removed]",
      "text/plain": [
       "<Figure size 576x432 with 1 Axes>"
      ]
     },
     "metadata": {
      "needs_background": "light"
     },
     "output_type": "display_data"
    }
   ],
   "source": [
    "x_opt = x.X\n",
    "fig, ax = create_figure(title=\"toy world\", traj=x_opt)"
   ]
  },
  {
   "cell_type": "markdown",
   "metadata": {},
   "source": [
    "## Multi-vehicle motion planning via MIP"
   ]
  },
  {
   "cell_type": "code",
   "execution_count": 12,
   "metadata": {},
   "outputs": [],
   "source": [
    "# use multiple vehicles\n",
    "N = 2\n",
    "H = 100\n",
    "x_start = np.array([[5, 10, 0, 0], [10, 10, 0, 0]])\n",
    "max_final_dist = 5"
   ]
  },
  {
   "cell_type": "code",
   "execution_count": 13,
   "metadata": {},
   "outputs": [],
   "source": [
    "# set up gurobi optimization model\n",
    "model = gp.Model(name=\"multi-vehicle MIQP motion planning\")\n",
    "model.Params.OutputFlag = 0"
   ]
  },
  {
   "cell_type": "code",
   "execution_count": 14,
   "metadata": {},
   "outputs": [
    {
     "name": "stdout",
     "output_type": "stream",
     "text": [
      "Number of state continuous variables: 800\n",
      "Number of control continuous variables: 396\n",
      "Number of obstacle collision avoidance binary variables: 800\n",
      "Number of vehicle collision avoidance binary variables: 1600\n"
     ]
    }
   ],
   "source": [
    "x, u = opt_vars(model, N, n, m, H)\n",
    "z, w = constraint_sat_vars(model, N, A.shape[0], H)\n",
    "print(\"Number of state continuous variables:\", math.prod(x.shape))\n",
    "print(\"Number of control continuous variables:\", math.prod(u.shape))\n",
    "print(\"Number of obstacle collision avoidance binary variables:\", \n",
    "      math.prod(z.shape))\n",
    "if N > 1:\n",
    "    print(\"Number of vehicle collision avoidance binary variables:\", \n",
    "          math.prod(w.shape))"
   ]
  },
  {
   "cell_type": "code",
   "execution_count": 15,
   "metadata": {},
   "outputs": [],
   "source": [
    "box_constraints(model, N, H)\n",
    "start_end_constrs(model, N, n, end_dist=max_final_dist, end_close=True)\n",
    "dynamics_constrs(model, N, H, n, m, A, B)\n",
    "obstacle_constrs(model, N, H, A_con, b_con)\n",
    "veh_avoid_constrs(model, N, H)\n",
    "convoy_constr(model, N, H)"
   ]
  },
  {
   "cell_type": "code",
   "execution_count": 16,
   "metadata": {},
   "outputs": [
    {
     "name": "stdout",
     "output_type": "stream",
     "text": [
      "Execution time: 30.896804571151733\n",
      "Optimization status: 2\n",
      "Objective value: 0.35966908710288464\n"
     ]
    }
   ],
   "source": [
    "obj = sum(u[i, :, k] @ u[i, :, k] for i in range(N) for k in range(H-1))\n",
    "model.setObjective(obj, GRB.MINIMIZE)\n",
    "\n",
    "start = time.time()\n",
    "model.optimize()\n",
    "end = time.time()\n",
    "\n",
    "print(\"Execution time:\", end - start)\n",
    "print(\"Optimization status:\", model.Status)\n",
    "print(\"Objective value:\", obj.getValue().item())"
   ]
  },
  {
   "cell_type": "code",
   "execution_count": 17,
   "metadata": {},
   "outputs": [
    {
     "data": {
      "image/png": "[encoded data removed]",
      "text/plain": [
       "<Figure size 576x432 with 1 Axes>"
      ]
     },
     "metadata": {
      "needs_background": "light"
     },
     "output_type": "display_data"
    }
   ],
   "source": [
    "x_opt = x.X\n",
    "fig, ax = create_figure(title=\"toy world\", traj=x_opt)"
   ]
  }
 ],
 "metadata": {
  "interpreter": {
   "hash": "31f2aee4e71d21fbe5cf8b01ff0e069b9275f58929596ceb00d14d90e3e16cd6"
  },
  "kernelspec": {
   "display_name": "Python 3.8.10 64-bit",
   "language": "python",
   "name": "python3"
  },
  "language_info": {
   "codemirror_mode": {
    "name": "ipython",
    "version": 3
   },
   "file_extension": ".py",
   "mimetype": "text/x-python",
   "name": "python",
   "nbconvert_exporter": "python",
   "pygments_lexer": "ipython3",
   "version": "3.8.10"
  },
  "orig_nbformat": 4
 },
 "nbformat": 4,
 "nbformat_minor": 2
}
