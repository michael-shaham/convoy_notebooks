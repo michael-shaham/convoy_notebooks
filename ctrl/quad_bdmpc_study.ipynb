{
 "cells": [
  {
   "attachments": {},
   "cell_type": "markdown",
   "metadata": {},
   "source": [
    "# Bidirectional model predictive control study"
   ]
  },
  {
   "cell_type": "code",
   "execution_count": null,
   "metadata": {},
   "outputs": [],
   "source": [
    "import copy\n",
    "import matplotlib.pyplot as plt\n",
    "import numpy as np\n",
    "import time\n",
    "from tqdm import tqdm"
   ]
  },
  {
   "cell_type": "code",
   "execution_count": null,
   "metadata": {},
   "outputs": [],
   "source": [
    "from utils.step_reference import gen_step_ref\n",
    "from dyn.linear_long import LinearLong\n",
    "from alg.quad_bdmpc import QuadBDMPC"
   ]
  },
  {
   "attachments": {},
   "cell_type": "markdown",
   "metadata": {},
   "source": [
    "### Platoon parameters"
   ]
  },
  {
   "cell_type": "code",
   "execution_count": null,
   "metadata": {},
   "outputs": [],
   "source": [
    "H = 20    # planning horizon\n",
    "N = 10     # number of vehicles in platoon, including leader\n",
    "dt = 0.1  # timestep\n",
    "total_time = 200.0  # seconds\n",
    "total_time += dt * H\n",
    "d_des = 5  # desired spacing\n",
    "\n",
    "# dynamics stuff\n",
    "x_min = np.array([-np.inf, -np.inf, -np.inf])\n",
    "x_max = np.array([np.inf, np.inf, np.inf])\n",
    "u_min = np.array([-6.0])\n",
    "u_max = np.array([6.0])\n",
    "tau = 0.5\n",
    "dyn = LinearLong(dt, x_min, x_max, u_min, u_max, tau)\n",
    "\n",
    "# algorithm\n",
    "q = 10\n",
    "Q = q * np.eye(dyn.p)\n",
    "q_p = 5\n",
    "q_s = 5\n",
    "Q_p = q_p * np.eye(dyn.p)\n",
    "Q_s = q_s * np.eye(dyn.p)\n",
    "q_p_weight = q_p / (q_p + q_s) * 2\n",
    "q_s_weight = q_s / (q_p + q_s) * 2\n",
    "r = 0.1\n",
    "R = r * np.eye(dyn.m)\n",
    "quad_bdmpc = QuadBDMPC(Q, Q_p, Q_s, R, q_p_weight, q_s_weight,\n",
    "                        dyn, x_min, x_max, u_min, u_max, H)"
   ]
  },
  {
   "cell_type": "markdown",
   "metadata": {},
   "source": [
    "### Reference trajectory - Acceleration"
   ]
  },
  {
   "cell_type": "code",
   "execution_count": null,
   "metadata": {},
   "outputs": [],
   "source": [
    "dist_start = 1.0\n",
    "dist_end = 2.0\n",
    "v_start = 20.\n",
    "v_end = 22.\n",
    "\n",
    "x_ref, t_range = gen_step_ref(total_time, dt, dist_start, dist_end, v_start, v_end)\n",
    "y_ref = x_ref[:2, :]\n",
    "T = len(t_range)\n",
    "t_range_mpc = t_range[:T-H]"
   ]
  },
  {
   "cell_type": "code",
   "execution_count": null,
   "metadata": {},
   "outputs": [],
   "source": [
    "fig, ax = plt.subplots(3, 1, figsize=(6, 6), sharex=True)\n",
    "fig.suptitle(\"Reference trajectory\", size=16)\n",
    "fig.subplots_adjust(top=0.9)\n",
    "\n",
    "for i in range(x_ref.shape[0]):\n",
    "    ax[i].plot(t_range[:T-H], x_ref[i, :T-H])\n",
    "    ax[i].set_xlabel(\"time [s]\")\n",
    "    ax[i].grid()\n",
    "ax[0].set_ylabel(\"position [m]\")\n",
    "ax[1].set_ylabel(\"velocity [m/s]\")\n",
    "ax[2].set_ylabel(r\"acceleration [m/s$^2$]\");"
   ]
  },
  {
   "attachments": {},
   "cell_type": "markdown",
   "metadata": {},
   "source": [
    "## Bidirectional platoon analysis"
   ]
  },
  {
   "cell_type": "code",
   "execution_count": null,
   "metadata": {},
   "outputs": [],
   "source": [
    "x_bdmpc = [np.zeros((dyn.n, T-H)) for _ in range(N + 1)]\n",
    "u_bdmpc = [np.zeros((dyn.m, T-H-1)) for _ in range(N + 1)]\n",
    "\n",
    "# zeroth vehicle is virtual leader\n",
    "x_bdmpc[0] = x_ref[:, :T-H]\n",
    "u_bdmpc[0][:, :T-H-1] = x_ref[2, :T-H-1]\n",
    "\n",
    "# initial condition: start in correct place with desired spacing, velocity, and \n",
    "# acceleration\n",
    "for i in range(1, N + 1):\n",
    "    d = 0 if i == 1 else d_des\n",
    "    x_bdmpc[i][:, 0] = np.array([-(i-1)*d, x_bdmpc[0][1, 0], x_bdmpc[0][2, 0]])\n",
    "\n",
    "# initialize assumed states, controls, and output for first timestep\n",
    "x_a_bdmpc = [np.zeros((dyn.n, H + 1)) for _ in range(N + 1)]\n",
    "x_a_bdmpc[0] = x_bdmpc[0][:, :H+1]\n",
    "for i in range(1, N + 1):\n",
    "    x_a_bdmpc[i][:, 0] = x_bdmpc[i][:, 0]\n",
    "\n",
    "y_a_bdmpc = [np.zeros((dyn.p, H + 1)) for _ in range(N + 1)]\n",
    "y_a_bdmpc[0] = x_bdmpc[0][:2, :H+1]\n",
    "for i in range(1, N + 1):\n",
    "    y_a_bdmpc[i][:, 0] = dyn.sense(x_a_bdmpc[i][:, 0])\n",
    "\n",
    "u_a_bdmpc = [np.zeros((dyn.m, H)) for _ in range(N + 1)]\n",
    "u_a_bdmpc[0] = u_bdmpc[0][:H]\n",
    "\n",
    "for i in range(1, N+1):\n",
    "    for k in range(H):\n",
    "        x_a_bdmpc[i][:, k+1] = dyn.forward(x_a_bdmpc[i][:, k], u_a_bdmpc[i][:, k])\n",
    "        y_a_bdmpc[i][:, k+1] = dyn.sense(x_a_bdmpc[i][:, k+1])\n",
    "\n",
    "x_a_bdmpc_prev = copy.deepcopy(x_a_bdmpc)\n",
    "y_a_bdmpc_prev = copy.deepcopy(y_a_bdmpc)\n",
    "u_a_bdmpc_prev = copy.deepcopy(u_a_bdmpc)"
   ]
  },
  {
   "cell_type": "code",
   "execution_count": null,
   "metadata": {},
   "outputs": [],
   "source": [
    "start_time = time.time()\n",
    "for k in tqdm(range(T - H - 1)):\n",
    "    for i in range(1, N + 1):\n",
    "        x_0 = x_bdmpc[i][:, k]\n",
    "        y_a = y_a_bdmpc_prev[i]\n",
    "        y_pred_a = y_a_bdmpc_prev[i-1]\n",
    "        d_pred = 0 if i == 1 else d_des\n",
    "        if i == 1:\n",
    "            y_succ_a = None\n",
    "            d_succ = None\n",
    "        elif (i < N):\n",
    "            y_succ_a = y_a_bdmpc_prev[i+1]\n",
    "            d_succ = d_des\n",
    "        else:\n",
    "            y_succ_a = None\n",
    "            d_succ = None\n",
    "        u_opt, x_opt, y_opt, value = quad_bdmpc.control(x_0, y_a, y_pred_a, y_succ_a,\n",
    "                                                    d_pred, d_succ)\n",
    "        u_bdmpc[i][:, k] = u_opt[:, 0]\n",
    "        x_bdmpc[i][:, k+1] = dyn.forward(x_0, u_opt[:, 0])\n",
    "\n",
    "        # update assumed state, control, input\n",
    "        u_a_bdmpc[i][:, :H-1] = u_opt[:, 1:H]\n",
    "        u_a_bdmpc[i][:, H-1] = np.zeros((dyn.m))\n",
    "        x_a_bdmpc[i][:, 0] = x_opt[:, 1]\n",
    "        y_a_bdmpc[i][:, 0] = dyn.sense(x_a_bdmpc[i][:, 0])\n",
    "        for t in range(H):\n",
    "            x_a_bdmpc[i][:, t+1] = dyn.forward(x_a_bdmpc[i][:, t], u_a_bdmpc[i][:, t])\n",
    "            y_a_bdmpc[i][:, t+1] = dyn.sense(x_a_bdmpc[i][:, t+1])\n",
    "    \n",
    "    x_a_bdmpc[0] = x_ref[:, k+1:k+H+2]\n",
    "    y_a_bdmpc[0] = x_ref[:2, k+1:k+H+2]\n",
    "    u_a_bdmpc[0] = x_ref[2, k+1:k+H+1]\n",
    "\n",
    "    x_a_bdmpc_prev = copy.deepcopy(x_a_bdmpc)\n",
    "    y_a_bdmpc_prev = copy.deepcopy(y_a_bdmpc)\n",
    "    u_a_bdmpc_prev = copy.deepcopy(u_a_bdmpc)\n",
    "\n",
    "end_time = time.time()\n",
    "avg_time = (end_time - start_time) / (N * (T - H))\n",
    "print(f\"\\nbd-mpc average time: {avg_time} s\")"
   ]
  },
  {
   "cell_type": "code",
   "execution_count": null,
   "metadata": {},
   "outputs": [],
   "source": [
    "fig, ax = plt.subplots(2, 1, figsize=(8, 6), sharex=True)\n",
    "fig.suptitle(\"Platoon tracking dynamics\", size=16)\n",
    "ax[0].set_title(f\"BD-MPC: Q = {q}I, Q_p = {q_p}I, Q_s = {q_s}I, R = {r}I\")\n",
    "fig.subplots_adjust(top=0.88)\n",
    "\n",
    "for i in range(N + 1):\n",
    "    # ax[0].plot(t_range_mpc, x_bdmpc[i][0, :], label=f\"vehicle {i}\")\n",
    "    ax[0].plot(t_range_mpc, x_bdmpc[i][1, :], label=f\"vehicle {i}\")\n",
    "    ax[1].plot(t_range_mpc, x_bdmpc[i][2, :], label=f\"vehicle {i}\")\n",
    "\n",
    "# ax[0].set_ylabel(\"position [m]\")\n",
    "ax[0].set_ylabel(\"velocity [m/s]\")\n",
    "ax[1].set_ylabel(r\"acceleration [m/s$^2$]\")\n",
    "ax[1].set_xlabel('time [s]')\n",
    "ax[0].grid()\n",
    "ax[1].grid()\n",
    "# ax[2].grid()\n",
    "ax[0].legend(bbox_to_anchor=(1.02, -0.1), loc=\"center left\")"
   ]
  },
  {
   "cell_type": "code",
   "execution_count": null,
   "metadata": {},
   "outputs": [],
   "source": [
    "d_error_bdmpc = [np.zeros(T-H) for _ in range(N + 1)]\n",
    "v_error_bdmpc = [np.zeros(T-H) for _ in range(N + 1)]\n",
    "for i in range(1, N + 1):\n",
    "    d = (i-1) * d_des\n",
    "    d_error_bdmpc[i] = x_bdmpc[i][0, :] - x_bdmpc[0][0, :] + d\n",
    "    v_error_bdmpc[i] = x_bdmpc[i][1, :] - x_bdmpc[0][1, :]"
   ]
  },
  {
   "cell_type": "code",
   "execution_count": null,
   "metadata": {},
   "outputs": [],
   "source": [
    "fig, ax = plt.subplots(2, 1, figsize=(8, 6), sharex=True)\n",
    "fig.suptitle(\"Platoon error dynamics: leader vs. followers\", size=16)\n",
    "ax[0].set_title(f\"BD-MPC: Q = {q}I, Q_p = {q_p}I, Q_s = {q_s}I, R = {r}I\")\n",
    "fig.subplots_adjust(top=0.88)\n",
    "\n",
    "for i in range(2, N+1):\n",
    "    ax[0].plot(t_range[:T-H], d_error_bdmpc[i], label=f\"vehicle {i}\")\n",
    "    ax[1].plot(t_range[:T-H], v_error_bdmpc[i], label=f\"vehicle {i}\")\n",
    "\n",
    "ax[0].text(1.02, 1.0, \"e < 0 : too far from leader\", va='center', transform=ax[0].transAxes)\n",
    "ax[1].text(1.02, 0.0, \"e < 0 : slower than leader\", va='center', transform=ax[1].transAxes)\n",
    "\n",
    "ax[0].set_ylabel(\"spacing error [m]\")\n",
    "ax[1].set_ylabel(\"velocity error [m/s]\")\n",
    "ax[1].set_xlabel(\"time [s]\")\n",
    "ax[0].grid()\n",
    "ax[1].grid()\n",
    "ax[1].legend(bbox_to_anchor=(1.02, 1.1), loc=\"center left\")"
   ]
  },
  {
   "cell_type": "code",
   "execution_count": null,
   "metadata": {},
   "outputs": [],
   "source": [
    "d_error_bdmpc = [np.zeros(T-H) for _ in range(N + 1)]\n",
    "v_error_bdmpc = [np.zeros(T-H) for _ in range(N + 1)]\n",
    "for i in range(1, N + 1):\n",
    "    d = 0 if i == 1 else d_des\n",
    "    d_error_bdmpc[i] = x_bdmpc[i][0, :] - x_bdmpc[i-1][0, :] + d\n",
    "    v_error_bdmpc[i] = x_bdmpc[i][1, :] - x_bdmpc[i-1][1, :]"
   ]
  },
  {
   "cell_type": "code",
   "execution_count": null,
   "metadata": {},
   "outputs": [],
   "source": [
    "fig, ax = plt.subplots(2, 1, figsize=(8, 6), sharex=True)\n",
    "fig.suptitle(\"Platoon error dynamics: follower vs predecessor\", size=16)\n",
    "ax[0].set_title(f\"BD-MPC: Q = {q}I, Q_p = {q_p}I, Q_s = {q_s}I, R = {r}I\")\n",
    "fig.subplots_adjust(top=0.88)\n",
    "\n",
    "for i in range(2, N+1):\n",
    "    ax[0].plot(t_range[:T-H], d_error_bdmpc[i], label=f\"vehicle {i}\")\n",
    "    ax[1].plot(t_range[:T-H], v_error_bdmpc[i], label=f\"vehicle {i}\")\n",
    "\n",
    "ax[0].text(1.02, 1.0, \"e < 0 : too far from pred\", va='center', transform=ax[0].transAxes)\n",
    "ax[1].text(1.02, 0.0, \"e < 0 : slower than pred\", va='center', transform=ax[1].transAxes)\n",
    "\n",
    "ax[0].set_ylabel(\"spacing error [m]\")\n",
    "ax[1].set_ylabel(\"velocity error [m/s]\")\n",
    "ax[1].set_xlabel(\"time [s]\")\n",
    "ax[0].grid()\n",
    "ax[1].grid()\n",
    "ax[1].legend(bbox_to_anchor=(1.02, 1.1), loc=\"center left\")"
   ]
  },
  {
   "attachments": {},
   "cell_type": "markdown",
   "metadata": {},
   "source": [
    "## Reference trajectory - Deceleration"
   ]
  },
  {
   "cell_type": "code",
   "execution_count": null,
   "metadata": {},
   "outputs": [],
   "source": [
    "dist_start = 1.0\n",
    "dist_end = 2.0\n",
    "v_start = 20.\n",
    "v_end = 18.\n",
    "\n",
    "x_ref, t_range = gen_step_ref(total_time, dt, dist_start, dist_end, v_start, v_end)\n",
    "y_ref = x_ref[:2, :]\n",
    "T = len(t_range)\n",
    "t_range_mpc = t_range[:T-H]"
   ]
  },
  {
   "cell_type": "code",
   "execution_count": null,
   "metadata": {},
   "outputs": [],
   "source": [
    "fig, ax = plt.subplots(3, 1, figsize=(6, 6), sharex=True)\n",
    "fig.suptitle(\"Reference trajectory\", size=16)\n",
    "fig.subplots_adjust(top=0.9)\n",
    "\n",
    "for i in range(x_ref.shape[0]):\n",
    "    ax[i].plot(t_range[:T-H], x_ref[i, :T-H])\n",
    "    ax[i].set_xlabel(\"time [s]\")\n",
    "    ax[i].grid()\n",
    "ax[0].set_ylabel(\"position [m]\")\n",
    "ax[1].set_ylabel(\"velocity [m/s]\")\n",
    "ax[2].set_ylabel(r\"acceleration [m/s$^2$]\");"
   ]
  },
  {
   "cell_type": "markdown",
   "metadata": {},
   "source": [
    "## Bidirectional platoon analysis"
   ]
  },
  {
   "cell_type": "code",
   "execution_count": null,
   "metadata": {},
   "outputs": [],
   "source": [
    "x_bdmpc = [np.zeros((dyn.n, T-H)) for _ in range(N + 1)]\n",
    "u_bdmpc = [np.zeros((dyn.m, T-H-1)) for _ in range(N + 1)]\n",
    "\n",
    "# zeroth vehicle is virtual leader\n",
    "x_bdmpc[0] = x_ref[:, :T-H]\n",
    "u_bdmpc[0][:, :T-H-1] = x_ref[2, :T-H-1]\n",
    "\n",
    "# initial condition: start in correct place with desired spacing, velocity, and \n",
    "# acceleration\n",
    "for i in range(1, N + 1):\n",
    "    d = 0 if i == 1 else d_des\n",
    "    x_bdmpc[i][:, 0] = np.array([-(i-1)*d, x_bdmpc[0][1, 0], x_bdmpc[0][2, 0]])\n",
    "\n",
    "# initialize assumed states, controls, and output for first timestep\n",
    "x_a_bdmpc = [np.zeros((dyn.n, H + 1)) for _ in range(N + 1)]\n",
    "x_a_bdmpc[0] = x_bdmpc[0][:, :H+1]\n",
    "for i in range(1, N + 1):\n",
    "    x_a_bdmpc[i][:, 0] = x_bdmpc[i][:, 0]\n",
    "\n",
    "y_a_bdmpc = [np.zeros((dyn.p, H + 1)) for _ in range(N + 1)]\n",
    "y_a_bdmpc[0] = x_bdmpc[0][:2, :H+1]\n",
    "for i in range(1, N + 1):\n",
    "    y_a_bdmpc[i][:, 0] = dyn.sense(x_a_bdmpc[i][:, 0])\n",
    "\n",
    "u_a_bdmpc = [np.zeros((dyn.m, H)) for _ in range(N + 1)]\n",
    "u_a_bdmpc[0] = u_bdmpc[0][:H]\n",
    "\n",
    "for i in range(1, N+1):\n",
    "    for k in range(H):\n",
    "        x_a_bdmpc[i][:, k+1] = dyn.forward(x_a_bdmpc[i][:, k], u_a_bdmpc[i][:, k])\n",
    "        y_a_bdmpc[i][:, k+1] = dyn.sense(x_a_bdmpc[i][:, k+1])\n",
    "\n",
    "x_a_bdmpc_prev = copy.deepcopy(x_a_bdmpc)\n",
    "y_a_bdmpc_prev = copy.deepcopy(y_a_bdmpc)\n",
    "u_a_bdmpc_prev = copy.deepcopy(u_a_bdmpc)"
   ]
  },
  {
   "cell_type": "code",
   "execution_count": null,
   "metadata": {},
   "outputs": [],
   "source": [
    "start_time = time.time()\n",
    "for k in tqdm(range(T - H - 1)):\n",
    "    for i in range(1, N + 1):\n",
    "        x_0 = x_bdmpc[i][:, k]\n",
    "        y_a = y_a_bdmpc_prev[i]\n",
    "        y_pred_a = y_a_bdmpc_prev[i-1]\n",
    "        d_pred = 0 if i == 1 else d_des\n",
    "        if i == 1:\n",
    "            y_succ_a = None\n",
    "            d_succ = None\n",
    "        elif (i < N):\n",
    "            y_succ_a = y_a_bdmpc_prev[i+1]\n",
    "            d_succ = d_des\n",
    "        else:\n",
    "            y_succ_a = None\n",
    "            d_succ = None\n",
    "        u_opt, x_opt, y_opt, value = quad_bdmpc.control(x_0, y_a, y_pred_a, y_succ_a,\n",
    "                                                    d_pred, d_succ)\n",
    "        u_bdmpc[i][:, k] = u_opt[:, 0]\n",
    "        x_bdmpc[i][:, k+1] = dyn.forward(x_0, u_opt[:, 0])\n",
    "\n",
    "        # update assumed state, control, input\n",
    "        u_a_bdmpc[i][:, :H-1] = u_opt[:, 1:H]\n",
    "        u_a_bdmpc[i][:, H-1] = np.zeros((dyn.m))\n",
    "        x_a_bdmpc[i][:, 0] = x_opt[:, 1]\n",
    "        y_a_bdmpc[i][:, 0] = dyn.sense(x_a_bdmpc[i][:, 0])\n",
    "        for t in range(H):\n",
    "            x_a_bdmpc[i][:, t+1] = dyn.forward(x_a_bdmpc[i][:, t], u_a_bdmpc[i][:, t])\n",
    "            y_a_bdmpc[i][:, t+1] = dyn.sense(x_a_bdmpc[i][:, t+1])\n",
    "    \n",
    "    x_a_bdmpc[0] = x_ref[:, k+1:k+H+2]\n",
    "    y_a_bdmpc[0] = x_ref[:2, k+1:k+H+2]\n",
    "    u_a_bdmpc[0] = x_ref[2, k+1:k+H+1]\n",
    "\n",
    "    x_a_bdmpc_prev = copy.deepcopy(x_a_bdmpc)\n",
    "    y_a_bdmpc_prev = copy.deepcopy(y_a_bdmpc)\n",
    "    u_a_bdmpc_prev = copy.deepcopy(u_a_bdmpc)\n",
    "\n",
    "end_time = time.time()\n",
    "avg_time = (end_time - start_time) / (N * (T - H))\n",
    "print(f\"\\nbd-mpc average time: {avg_time} s\")"
   ]
  },
  {
   "cell_type": "code",
   "execution_count": null,
   "metadata": {},
   "outputs": [],
   "source": [
    "fig, ax = plt.subplots(2, 1, figsize=(8, 6), sharex=True)\n",
    "fig.suptitle(f\"Platoon tracking dynamics\", size=16)\n",
    "ax[0].set_title(f\"BD-MPC: Q = {q}I, Q_p = {q_p}I, Q_s = {q_s}I, R = {r}I\")\n",
    "fig.subplots_adjust(top=0.88)\n",
    "\n",
    "for i in range(N + 1):\n",
    "    # ax[0].plot(t_range_mpc, x_bdmpc[i][0, :], label=f\"vehicle {i}\")\n",
    "    ax[0].plot(t_range_mpc, x_bdmpc[i][1, :], label=f\"vehicle {i}\")\n",
    "    ax[1].plot(t_range_mpc, x_bdmpc[i][2, :], label=f\"vehicle {i}\")\n",
    "\n",
    "# ax[0].set_ylabel(\"position [m]\")\n",
    "ax[0].set_ylabel(\"velocity [m/s]\")\n",
    "ax[1].set_ylabel(r\"acceleration [m/s$^2$]\")\n",
    "ax[1].set_ylabel(\"time [s]\")\n",
    "ax[0].grid()\n",
    "ax[1].grid()\n",
    "# ax[2].grid()\n",
    "ax[0].legend(bbox_to_anchor=(1.02, -0.1), loc=\"center left\")"
   ]
  },
  {
   "cell_type": "code",
   "execution_count": null,
   "metadata": {},
   "outputs": [],
   "source": [
    "d_error_bdmpc = [np.zeros(T-H) for _ in range(N + 1)]\n",
    "v_error_bdmpc = [np.zeros(T-H) for _ in range(N + 1)]\n",
    "for i in range(1, N + 1):\n",
    "    d = (i-1) * d_des\n",
    "    d_error_bdmpc[i] = x_bdmpc[i][0, :] - x_bdmpc[0][0, :] + d\n",
    "    v_error_bdmpc[i] = x_bdmpc[i][1, :] - x_bdmpc[0][1, :]"
   ]
  },
  {
   "cell_type": "code",
   "execution_count": null,
   "metadata": {},
   "outputs": [],
   "source": [
    "fig, ax = plt.subplots(2, 1, figsize=(8, 6), sharex=True)\n",
    "fig.suptitle(\"Platoon error dynamics: leader vs. followers\", size=16)\n",
    "ax[0].set_title(f\"BD-MPC: Q = {q}I, Q_p = {q_p}I, Q_s = {q_s}I, R = {r}I\")\n",
    "fig.subplots_adjust(top=0.88)\n",
    "\n",
    "for i in range(2, N+1):\n",
    "    ax[0].plot(t_range[:T-H], d_error_bdmpc[i], label=f\"vehicle {i}\")\n",
    "    ax[1].plot(t_range[:T-H], v_error_bdmpc[i], label=f\"vehicle {i}\")\n",
    "\n",
    "ax[0].text(1.02, 1.0, \"e < 0 : too far from leader\", va='center', transform=ax[0].transAxes)\n",
    "ax[1].text(1.02, 0.0, \"e < 0 : slower than leader\", va='center', transform=ax[1].transAxes)\n",
    "\n",
    "ax[0].set_ylabel(\"spacing error [m]\")\n",
    "ax[1].set_ylabel(\"velocity error [m/s]\")\n",
    "ax[1].set_xlabel(\"time [s]\")\n",
    "ax[0].grid()\n",
    "ax[1].grid()\n",
    "ax[1].legend(bbox_to_anchor=(1.02, 1.1), loc=\"center left\")"
   ]
  },
  {
   "cell_type": "code",
   "execution_count": null,
   "metadata": {},
   "outputs": [],
   "source": [
    "d_error_bdmpc = [np.zeros(T-H) for _ in range(N + 1)]\n",
    "v_error_bdmpc = [np.zeros(T-H) for _ in range(N + 1)]\n",
    "for i in range(1, N + 1):\n",
    "    d = 0 if i == 1 else d_des\n",
    "    d_error_bdmpc[i] = x_bdmpc[i][0, :] - x_bdmpc[i-1][0, :] + d\n",
    "    v_error_bdmpc[i] = x_bdmpc[i][1, :] - x_bdmpc[i-1][1, :]"
   ]
  },
  {
   "cell_type": "code",
   "execution_count": null,
   "metadata": {},
   "outputs": [],
   "source": [
    "fig, ax = plt.subplots(2, 1, figsize=(8, 6), sharex=True)\n",
    "fig.suptitle(\"Platoon error dynamics: follower vs predecessor\", size=16)\n",
    "ax[0].set_title(f\"BD-MPC: Q = {q}I, Q_p = {q_p}I, Q_s = {q_s}I, R = {r}I\")\n",
    "fig.subplots_adjust(top=0.88)\n",
    "\n",
    "for i in range(2, N+1):\n",
    "    ax[0].plot(t_range[:T-H], d_error_bdmpc[i], label=f\"vehicle {i}\")\n",
    "    ax[1].plot(t_range[:T-H], v_error_bdmpc[i], label=f\"vehicle {i}\")\n",
    "\n",
    "ax[0].text(1.02, 1.0, \"e < 0 : too far from pred\", va='center', transform=ax[0].transAxes)\n",
    "ax[1].text(1.02, 0.0, \"e < 0 : slower than pred\", va='center', transform=ax[1].transAxes)\n",
    "\n",
    "ax[0].set_ylabel(\"spacing error [m]\")\n",
    "ax[1].set_ylabel(\"velocity error [m/s]\")\n",
    "ax[1].set_xlabel(\"time [s]\")\n",
    "ax[0].grid()\n",
    "ax[1].grid()\n",
    "ax[1].legend(bbox_to_anchor=(1.02, 1.1), loc=\"center left\")"
   ]
  }
 ],
 "metadata": {
  "kernelspec": {
   "display_name": "Python 3",
   "language": "python",
   "name": "python3"
  },
  "language_info": {
   "codemirror_mode": {
    "name": "ipython",
    "version": 3
   },
   "file_extension": ".py",
   "mimetype": "text/x-python",
   "name": "python",
   "nbconvert_exporter": "python",
   "pygments_lexer": "ipython3",
   "version": "3.8.10"
  },
  "orig_nbformat": 4
 },
 "nbformat": 4,
 "nbformat_minor": 2
}
