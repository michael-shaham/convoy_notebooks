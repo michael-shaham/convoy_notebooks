{
 "cells": [
  {
   "cell_type": "code",
   "execution_count": 1,
   "metadata": {},
   "outputs": [],
   "source": [
    "import numpy as np\n",
    "import matplotlib.pyplot as plt"
   ]
  },
  {
   "attachments": {},
   "cell_type": "markdown",
   "metadata": {},
   "source": [
    "### Visualizing a graph"
   ]
  },
  {
   "cell_type": "code",
   "execution_count": 2,
   "metadata": {},
   "outputs": [
    {
     "name": "stdout",
     "output_type": "stream",
     "text": [
      "0.5857864376269062\n",
      "[ 0.37717224  0.37717224  0.37717224  0.15622986  0.15622986  0.15622986\n",
      " -0.15622986 -0.15622986 -0.15622986 -0.37717224 -0.37717224 -0.37717224]\n",
      "1.0000000000000007\n",
      "[-3.53553391e-01  4.53228485e-17  3.53553391e-01 -3.53553391e-01\n",
      " -3.66902247e-16  3.53553391e-01 -3.53553391e-01 -3.91298540e-16\n",
      "  3.53553391e-01 -3.53553391e-01  6.58573711e-16  3.53553391e-01]\n"
     ]
    }
   ],
   "source": [
    "w = 4\n",
    "h = 3\n",
    "n = w * h\n",
    "V = np.arange(1, n)\n",
    "A = np.zeros((n, n))\n",
    "for x in range(w):\n",
    "    for y in range(h):\n",
    "        k = x * (w - 1) + y\n",
    "        if x + 1 < w:\n",
    "            x_neighbor = x + 1\n",
    "            y_neighbor = y\n",
    "            k_neighbor = x_neighbor * (w - 1) + y_neighbor\n",
    "            A[k, k_neighbor] = 1\n",
    "            A[k_neighbor, k] = 1\n",
    "        if y + 1 < h:\n",
    "            x_neighbor = x\n",
    "            y_neighbor = y + 1\n",
    "            k_neighbor = x_neighbor * (w - 1) + y_neighbor\n",
    "            A[k, k_neighbor] = 1\n",
    "            A[k_neighbor, k] = 1\n",
    "\n",
    "deg = A.sum(axis=1)\n",
    "D = np.diag(deg)\n",
    "\n",
    "L = D - A\n",
    "\n",
    "eigvals, eigvecs = np.linalg.eig(L)\n",
    "order = np.argsort(eigvals)\n",
    "eigvals = eigvals[order]\n",
    "eigvecs = eigvecs[:, order]\n",
    "print(eigvals[1])\n",
    "print(eigvecs[:, 1])\n",
    "print(eigvals[2])\n",
    "print(eigvecs[:, 2])"
   ]
  },
  {
   "cell_type": "code",
   "execution_count": 3,
   "metadata": {},
   "outputs": [
    {
     "data": {
      "image/png": "[encoded data removed]",
      "text/plain": [
       "<Figure size 640x480 with 1 Axes>"
      ]
     },
     "metadata": {},
     "output_type": "display_data"
    }
   ],
   "source": [
    "for i in range(n):\n",
    "    plt.scatter(eigvecs[i, 1], eigvecs[i, 2], c='k')\n",
    "for i in range(n):\n",
    "    for j in range(n):\n",
    "        if A[i, j] == 1:\n",
    "            plt.plot([eigvecs[i, 1], eigvecs[j, 1]],\n",
    "                     [eigvecs[i, 2], eigvecs[j, 2]], c='k')"
   ]
  },
  {
   "attachments": {},
   "cell_type": "markdown",
   "metadata": {},
   "source": [
    "## Eigenvalues and eigenvectors of predecessor follower and bidirectional"
   ]
  },
  {
   "cell_type": "code",
   "execution_count": 4,
   "metadata": {},
   "outputs": [],
   "source": [
    "def pf_graph(n):\n",
    "    A = np.zeros((n, n))\n",
    "    D = np.zeros((n, n))\n",
    "    L = np.zeros((n, n))\n",
    "    P = np.zeros((n, n))\n",
    "    for i in range(1, n):\n",
    "        A[i, i-1] = 1\n",
    "    D = np.diag(A.sum(axis=1))\n",
    "    L = D - A\n",
    "    P[0, 0] = 1\n",
    "    return A, D, L, P\n",
    "\n",
    "def plf_graph(n):\n",
    "    A = np.zeros((n, n))\n",
    "    D = np.zeros((n, n))\n",
    "    L = np.zeros((n, n))\n",
    "    P = np.zeros((n, n))\n",
    "    for i in range(1, n):\n",
    "        A[i, i-1] = 1\n",
    "    D = np.diag(A.sum(axis=1))\n",
    "    L = D - A\n",
    "    P = np.eye(n)\n",
    "    return A, D, L, P\n",
    "\n",
    "def bd_graph(n):\n",
    "    A = np.zeros((n, n))\n",
    "    D = np.zeros((n, n))\n",
    "    L = np.zeros((n, n))\n",
    "    P = np.zeros((n, n))\n",
    "    for i in range(1, n):\n",
    "        A[i, i-1] = 1\n",
    "        A[i-1, i] = 1\n",
    "    A[1, 0] = 1\n",
    "    D = np.diag(A.sum(axis=1))\n",
    "    L = D - A\n",
    "    P[0, 0] = 1\n",
    "    return A, D, L, P"
   ]
  },
  {
   "cell_type": "code",
   "execution_count": 5,
   "metadata": {},
   "outputs": [],
   "source": [
    "N = 50\n",
    "A_pf, D_pf, L_pf, P_pf = pf_graph(N)\n",
    "A_plf, D_plf, L_plf, P_plf = plf_graph(N)\n",
    "A_bd, D_bd, L_bd, P_bd = bd_graph(N)"
   ]
  },
  {
   "attachments": {},
   "cell_type": "markdown",
   "metadata": {},
   "source": [
    "### Analyzing $L$"
   ]
  },
  {
   "cell_type": "code",
   "execution_count": 6,
   "metadata": {},
   "outputs": [
    {
     "name": "stdout",
     "output_type": "stream",
     "text": [
      "Predecessor follower:\n",
      "min eigenvalue: 0.00\n",
      "max eigenvalue: 1.00\n",
      "\n",
      "Predecessor-leader follower:\n",
      "min eigenvalue: 0.00\n",
      "max eigenvalue: 1.00\n",
      "\n",
      "Bidirectional:\n",
      "min eigenvalue: 0.00\n",
      "max eigenvalue: 4.00\n"
     ]
    }
   ],
   "source": [
    "eigvals_pf, eigvecs_pf = np.linalg.eig(L_pf)\n",
    "pf_inds = np.argsort(eigvals_pf)\n",
    "eigvals_pf = eigvals_pf[pf_inds]\n",
    "eigvecs_pf = eigvecs_pf[:, pf_inds]\n",
    "\n",
    "eigvals_plf, eigvecs_plf = np.linalg.eig(L_plf)\n",
    "plf_inds = np.argsort(eigvals_plf)\n",
    "eigvals_plf = eigvals_plf[plf_inds]\n",
    "eigvecs_plf = eigvecs_plf[:, plf_inds]\n",
    "\n",
    "eigvals_bd, eigvecs_bd = np.linalg.eig(L_bd)\n",
    "bd_inds = np.argsort(eigvals_bd)\n",
    "eigvals_bd = eigvals_bd[bd_inds]\n",
    "eigvecs_bd = eigvecs_bd[:, bd_inds]\n",
    "\n",
    "print(\"Predecessor follower:\")\n",
    "print(\"min eigenvalue: %.2f\" % eigvals_pf[0])\n",
    "print(\"max eigenvalue: %.2f\" % eigvals_pf[-1])\n",
    "\n",
    "print(\"\\nPredecessor-leader follower:\")\n",
    "print(\"min eigenvalue: %.2f\" % eigvals_plf[0])\n",
    "print(\"max eigenvalue: %.2f\" % eigvals_plf[-1])\n",
    "\n",
    "print(\"\\nBidirectional:\")\n",
    "print(\"min eigenvalue: %.2f\" % eigvals_bd[0])\n",
    "print(\"max eigenvalue: %.2f\" % eigvals_bd[-1])"
   ]
  },
  {
   "attachments": {},
   "cell_type": "markdown",
   "metadata": {},
   "source": [
    "### Analyzing $L + P$"
   ]
  },
  {
   "cell_type": "code",
   "execution_count": 7,
   "metadata": {},
   "outputs": [
    {
     "name": "stdout",
     "output_type": "stream",
     "text": [
      "Predecessor follower:\n",
      "min eigenvalue: 1.00\n",
      "max eigenvalue: 1.00\n",
      "\n",
      "Predecessor-leader follower:\n",
      "min eigenvalue: 1.00\n",
      "max eigenvalue: 2.00\n",
      "\n",
      "Bidirectional:\n",
      "min eigenvalue: 0.00\n",
      "max eigenvalue: 4.00\n"
     ]
    }
   ],
   "source": [
    "eigvals_pf, eigvecs_pf = np.linalg.eig(L_pf + P_pf)\n",
    "pf_inds = np.argsort(eigvals_pf)\n",
    "eigvals_pf = eigvals_pf[pf_inds]\n",
    "eigvecs_pf = eigvecs_pf[:, pf_inds]\n",
    "\n",
    "eigvals_plf, eigvecs_plf = np.linalg.eig(L_plf + P_plf)\n",
    "plf_inds = np.argsort(eigvals_plf)\n",
    "eigvals_plf = eigvals_plf[plf_inds]\n",
    "eigvecs_plf = eigvecs_plf[:, plf_inds]\n",
    "\n",
    "eigvals_bd, eigvecs_bd = np.linalg.eig(L_bd + P_pf)\n",
    "bd_inds = np.argsort(eigvals_bd)\n",
    "eigvals_bd = eigvals_bd[bd_inds]\n",
    "eigvecs_bd = eigvecs_bd[:, bd_inds]\n",
    "\n",
    "print(\"Predecessor follower:\")\n",
    "print(\"min eigenvalue: %.2f\" % eigvals_pf[0])\n",
    "print(\"max eigenvalue: %.2f\" % eigvals_pf[-1])\n",
    "\n",
    "print(\"\\nPredecessor-leader follower:\")\n",
    "print(\"min eigenvalue: %.2f\" % eigvals_plf[0])\n",
    "print(\"max eigenvalue: %.2f\" % eigvals_plf[-1])\n",
    "\n",
    "print(\"\\nBidirectional:\")\n",
    "print(\"min eigenvalue: %.2f\" % eigvals_bd[0])\n",
    "print(\"max eigenvalue: %.2f\" % eigvals_bd[-1])"
   ]
  },
  {
   "attachments": {},
   "cell_type": "markdown",
   "metadata": {},
   "source": [
    "### Analyzing $(D + P)^{-1} A$"
   ]
  },
  {
   "cell_type": "code",
   "execution_count": 8,
   "metadata": {},
   "outputs": [
    {
     "name": "stdout",
     "output_type": "stream",
     "text": [
      "Predecessor follower:\n",
      "min eigenvalue: 0.00\n",
      "max eigenvalue: 0.00\n",
      "\n",
      "Predecessor-leader follower:\n",
      "min eigenvalue: 0.00\n",
      "max eigenvalue: 0.00\n",
      "\n",
      "Bidirectional:\n",
      "min eigenvalue: -0.999507\n",
      "max eigenvalue: 0.999507\n"
     ]
    }
   ],
   "source": [
    "eigvals_pf, eigvecs_pf = np.linalg.eig(np.linalg.inv(D_pf + P_pf) @ A_pf)\n",
    "pf_inds = np.argsort(eigvals_pf)\n",
    "eigvals_pf = eigvals_pf[pf_inds]\n",
    "eigvecs_pf = eigvecs_pf[:, pf_inds]\n",
    "\n",
    "eigvals_plf, eigvecs_plf = np.linalg.eig(np.linalg.inv(D_plf + P_plf) @ A_plf)\n",
    "plf_inds = np.argsort(eigvals_plf)\n",
    "eigvals_plf = eigvals_plf[plf_inds]\n",
    "eigvecs_plf = eigvecs_plf[:, plf_inds]\n",
    "\n",
    "eigvals_bd, eigvecs_bd = np.linalg.eig(np.linalg.inv(D_bd + P_bd) @ A_bd)\n",
    "bd_inds = np.argsort(eigvals_bd)\n",
    "eigvals_bd = eigvals_bd[bd_inds]\n",
    "eigvecs_bd = eigvecs_bd[:, bd_inds]\n",
    "\n",
    "print(\"Predecessor follower:\")\n",
    "print(\"min eigenvalue: %.2f\" % eigvals_pf[0])\n",
    "print(\"max eigenvalue: %.2f\" % eigvals_pf[-1])\n",
    "\n",
    "print(\"\\nPredecessor-leader follower:\")\n",
    "print(\"min eigenvalue: %.2f\" % eigvals_plf[0])\n",
    "print(\"max eigenvalue: %.2f\" % eigvals_plf[-1])\n",
    "\n",
    "print(\"\\nBidirectional:\")\n",
    "print(\"min eigenvalue: %f\" % eigvals_bd[0])\n",
    "print(\"max eigenvalue: %f\" % eigvals_bd[-1])"
   ]
  }
 ],
 "metadata": {
  "kernelspec": {
   "display_name": "Python 3",
   "language": "python",
   "name": "python3"
  },
  "language_info": {
   "codemirror_mode": {
    "name": "ipython",
    "version": 3
   },
   "file_extension": ".py",
   "mimetype": "text/x-python",
   "name": "python",
   "nbconvert_exporter": "python",
   "pygments_lexer": "ipython3",
   "version": "3.8.10"
  },
  "orig_nbformat": 4
 },
 "nbformat": 4,
 "nbformat_minor": 2
}
